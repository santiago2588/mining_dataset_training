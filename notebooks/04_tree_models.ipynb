{
 "cells": [
  {
   "cell_type": "code",
   "execution_count": 1,
   "id": "650c3902",
   "metadata": {},
   "outputs": [],
   "source": [
    "import yaml\n",
    "import os"
   ]
  },
  {
   "cell_type": "code",
   "execution_count": 2,
   "id": "a0bbd9e9",
   "metadata": {},
   "outputs": [],
   "source": [
    "# Data wrangling\n",
    "import pandas as pd\n",
    "import numpy as np"
   ]
  },
  {
   "cell_type": "code",
   "execution_count": 3,
   "id": "a6390121",
   "metadata": {},
   "outputs": [],
   "source": [
    "# Data visualization\n",
    "import matplotlib.pyplot as plt\n",
    "import seaborn as sns\n",
    "import plotly.express as px\n",
    "from tqdm import tqdm"
   ]
  },
  {
   "cell_type": "code",
   "execution_count": 4,
   "id": "9b42e388",
   "metadata": {},
   "outputs": [],
   "source": [
    "# Models\n",
    "from sklearn.ensemble import RandomForestRegressor\n",
    "from sklearn.ensemble import GradientBoostingRegressor\n",
    "from lightgbm import LGBMRegressor\n",
    "from xgboost import XGBRegressor"
   ]
  },
  {
   "cell_type": "code",
   "execution_count": 5,
   "id": "9963d95c",
   "metadata": {},
   "outputs": [],
   "source": [
    "# Models Pipelines\n",
    "from sklearn.pipeline import Pipeline"
   ]
  },
  {
   "cell_type": "code",
   "execution_count": 6,
   "id": "c5d5c5e5",
   "metadata": {},
   "outputs": [],
   "source": [
    "# Model evaluation\n",
    "from sklearn.model_selection import train_test_split\n",
    "from sklearn.metrics import mean_squared_error, mean_absolute_error, r2_score"
   ]
  },
  {
   "cell_type": "code",
   "execution_count": 7,
   "id": "e40279ca",
   "metadata": {},
   "outputs": [],
   "source": [
    "import mlflow\n",
    "import mlflow.sklearn"
   ]
  },
  {
   "cell_type": "code",
   "execution_count": 8,
   "id": "480022b1",
   "metadata": {},
   "outputs": [
    {
     "data": {
      "text/plain": [
       "<Experiment: artifact_location=('file:c:/Users/mjkipsz2/OneDrive - The University of '\n",
       " 'Manchester/Desktop/mining_dataset_training/notebooks/mlruns/180358635567956149'), creation_time=1755171885716, experiment_id='180358635567956149', last_update_time=1755171885716, lifecycle_stage='active', name='mining', tags={}>"
      ]
     },
     "execution_count": 8,
     "metadata": {},
     "output_type": "execute_result"
    }
   ],
   "source": [
    "mlflow.set_tracking_uri(\"file:./mlruns\")\n",
    "mlflow.set_experiment(\"mining\")"
   ]
  },
  {
   "cell_type": "code",
   "execution_count": 9,
   "id": "10e17ed6",
   "metadata": {},
   "outputs": [],
   "source": [
    "# Save model\n",
    "import joblib"
   ]
  },
  {
   "cell_type": "code",
   "execution_count": 10,
   "id": "49fa3a41",
   "metadata": {},
   "outputs": [
    {
     "data": {
      "text/html": [
       "<div>\n",
       "<style scoped>\n",
       "    .dataframe tbody tr th:only-of-type {\n",
       "        vertical-align: middle;\n",
       "    }\n",
       "\n",
       "    .dataframe tbody tr th {\n",
       "        vertical-align: top;\n",
       "    }\n",
       "\n",
       "    .dataframe thead th {\n",
       "        text-align: right;\n",
       "    }\n",
       "</style>\n",
       "<table border=\"1\" class=\"dataframe\">\n",
       "  <thead>\n",
       "    <tr style=\"text-align: right;\">\n",
       "      <th></th>\n",
       "      <th>% Iron Feed</th>\n",
       "      <th>Starch Flow</th>\n",
       "      <th>Amina Flow</th>\n",
       "      <th>Ore Pulp Flow</th>\n",
       "      <th>Ore Pulp pH</th>\n",
       "      <th>Ore Pulp Density</th>\n",
       "      <th>Flotation Column 01 Air Flow</th>\n",
       "      <th>Flotation Column 02 Air Flow</th>\n",
       "      <th>Flotation Column 04 Air Flow</th>\n",
       "      <th>Flotation Column 05 Air Flow</th>\n",
       "      <th>...</th>\n",
       "      <th>Flotation Column 07 Air Flow</th>\n",
       "      <th>Flotation Column 01 Level</th>\n",
       "      <th>Flotation Column 02 Level</th>\n",
       "      <th>Flotation Column 03 Level</th>\n",
       "      <th>Flotation Column 04 Level</th>\n",
       "      <th>Flotation Column 05 Level</th>\n",
       "      <th>Flotation Column 06 Level</th>\n",
       "      <th>Flotation Column 07 Level</th>\n",
       "      <th>% Iron Concentrate</th>\n",
       "      <th>% Silica Concentrate</th>\n",
       "    </tr>\n",
       "  </thead>\n",
       "  <tbody>\n",
       "    <tr>\n",
       "      <th>0</th>\n",
       "      <td>55.2</td>\n",
       "      <td>3170.410</td>\n",
       "      <td>539.673</td>\n",
       "      <td>399.697</td>\n",
       "      <td>10.15890</td>\n",
       "      <td>1.66910</td>\n",
       "      <td>249.291</td>\n",
       "      <td>248.269</td>\n",
       "      <td>295.096</td>\n",
       "      <td>306.4</td>\n",
       "      <td>...</td>\n",
       "      <td>249.774</td>\n",
       "      <td>462.601</td>\n",
       "      <td>488.724</td>\n",
       "      <td>441.674</td>\n",
       "      <td>433.629</td>\n",
       "      <td>448.477</td>\n",
       "      <td>480.866</td>\n",
       "      <td>489.382</td>\n",
       "      <td>67.06</td>\n",
       "      <td>1.11</td>\n",
       "    </tr>\n",
       "    <tr>\n",
       "      <th>1</th>\n",
       "      <td>55.2</td>\n",
       "      <td>3365.650</td>\n",
       "      <td>573.517</td>\n",
       "      <td>399.023</td>\n",
       "      <td>10.08600</td>\n",
       "      <td>1.70565</td>\n",
       "      <td>249.379</td>\n",
       "      <td>253.312</td>\n",
       "      <td>295.096</td>\n",
       "      <td>306.4</td>\n",
       "      <td>...</td>\n",
       "      <td>249.060</td>\n",
       "      <td>456.445</td>\n",
       "      <td>440.432</td>\n",
       "      <td>456.625</td>\n",
       "      <td>432.736</td>\n",
       "      <td>464.334</td>\n",
       "      <td>445.950</td>\n",
       "      <td>432.906</td>\n",
       "      <td>66.97</td>\n",
       "      <td>1.27</td>\n",
       "    </tr>\n",
       "    <tr>\n",
       "      <th>2</th>\n",
       "      <td>55.2</td>\n",
       "      <td>2693.750</td>\n",
       "      <td>592.133</td>\n",
       "      <td>409.204</td>\n",
       "      <td>9.94880</td>\n",
       "      <td>1.72472</td>\n",
       "      <td>248.302</td>\n",
       "      <td>251.906</td>\n",
       "      <td>295.096</td>\n",
       "      <td>306.4</td>\n",
       "      <td>...</td>\n",
       "      <td>249.236</td>\n",
       "      <td>459.248</td>\n",
       "      <td>480.114</td>\n",
       "      <td>453.814</td>\n",
       "      <td>433.885</td>\n",
       "      <td>438.642</td>\n",
       "      <td>421.974</td>\n",
       "      <td>408.193</td>\n",
       "      <td>66.75</td>\n",
       "      <td>1.36</td>\n",
       "    </tr>\n",
       "    <tr>\n",
       "      <th>3</th>\n",
       "      <td>55.2</td>\n",
       "      <td>2352.216</td>\n",
       "      <td>601.807</td>\n",
       "      <td>398.145</td>\n",
       "      <td>9.84375</td>\n",
       "      <td>1.75928</td>\n",
       "      <td>248.950</td>\n",
       "      <td>246.313</td>\n",
       "      <td>295.096</td>\n",
       "      <td>306.4</td>\n",
       "      <td>...</td>\n",
       "      <td>252.686</td>\n",
       "      <td>558.545</td>\n",
       "      <td>548.280</td>\n",
       "      <td>551.960</td>\n",
       "      <td>561.720</td>\n",
       "      <td>543.070</td>\n",
       "      <td>529.260</td>\n",
       "      <td>514.240</td>\n",
       "      <td>66.63</td>\n",
       "      <td>1.34</td>\n",
       "    </tr>\n",
       "    <tr>\n",
       "      <th>4</th>\n",
       "      <td>55.2</td>\n",
       "      <td>3313.960</td>\n",
       "      <td>626.099</td>\n",
       "      <td>399.785</td>\n",
       "      <td>9.74710</td>\n",
       "      <td>1.77000</td>\n",
       "      <td>248.379</td>\n",
       "      <td>250.532</td>\n",
       "      <td>295.096</td>\n",
       "      <td>306.4</td>\n",
       "      <td>...</td>\n",
       "      <td>251.323</td>\n",
       "      <td>559.346</td>\n",
       "      <td>534.120</td>\n",
       "      <td>539.332</td>\n",
       "      <td>538.596</td>\n",
       "      <td>545.270</td>\n",
       "      <td>575.404</td>\n",
       "      <td>595.680</td>\n",
       "      <td>66.85</td>\n",
       "      <td>1.15</td>\n",
       "    </tr>\n",
       "  </tbody>\n",
       "</table>\n",
       "<p>5 rows × 21 columns</p>\n",
       "</div>"
      ],
      "text/plain": [
       "   % Iron Feed  Starch Flow  Amina Flow  Ore Pulp Flow  Ore Pulp pH  \\\n",
       "0         55.2     3170.410     539.673        399.697     10.15890   \n",
       "1         55.2     3365.650     573.517        399.023     10.08600   \n",
       "2         55.2     2693.750     592.133        409.204      9.94880   \n",
       "3         55.2     2352.216     601.807        398.145      9.84375   \n",
       "4         55.2     3313.960     626.099        399.785      9.74710   \n",
       "\n",
       "   Ore Pulp Density  Flotation Column 01 Air Flow  \\\n",
       "0           1.66910                       249.291   \n",
       "1           1.70565                       249.379   \n",
       "2           1.72472                       248.302   \n",
       "3           1.75928                       248.950   \n",
       "4           1.77000                       248.379   \n",
       "\n",
       "   Flotation Column 02 Air Flow  Flotation Column 04 Air Flow  \\\n",
       "0                       248.269                       295.096   \n",
       "1                       253.312                       295.096   \n",
       "2                       251.906                       295.096   \n",
       "3                       246.313                       295.096   \n",
       "4                       250.532                       295.096   \n",
       "\n",
       "   Flotation Column 05 Air Flow  ...  Flotation Column 07 Air Flow  \\\n",
       "0                         306.4  ...                       249.774   \n",
       "1                         306.4  ...                       249.060   \n",
       "2                         306.4  ...                       249.236   \n",
       "3                         306.4  ...                       252.686   \n",
       "4                         306.4  ...                       251.323   \n",
       "\n",
       "   Flotation Column 01 Level  Flotation Column 02 Level  \\\n",
       "0                    462.601                    488.724   \n",
       "1                    456.445                    440.432   \n",
       "2                    459.248                    480.114   \n",
       "3                    558.545                    548.280   \n",
       "4                    559.346                    534.120   \n",
       "\n",
       "   Flotation Column 03 Level  Flotation Column 04 Level  \\\n",
       "0                    441.674                    433.629   \n",
       "1                    456.625                    432.736   \n",
       "2                    453.814                    433.885   \n",
       "3                    551.960                    561.720   \n",
       "4                    539.332                    538.596   \n",
       "\n",
       "   Flotation Column 05 Level  Flotation Column 06 Level  \\\n",
       "0                    448.477                    480.866   \n",
       "1                    464.334                    445.950   \n",
       "2                    438.642                    421.974   \n",
       "3                    543.070                    529.260   \n",
       "4                    545.270                    575.404   \n",
       "\n",
       "   Flotation Column 07 Level  % Iron Concentrate  % Silica Concentrate  \n",
       "0                    489.382               67.06                  1.11  \n",
       "1                    432.906               66.97                  1.27  \n",
       "2                    408.193               66.75                  1.36  \n",
       "3                    514.240               66.63                  1.34  \n",
       "4                    595.680               66.85                  1.15  \n",
       "\n",
       "[5 rows x 21 columns]"
      ]
     },
     "execution_count": 10,
     "metadata": {},
     "output_type": "execute_result"
    }
   ],
   "source": [
    "# Load the configuration file\n",
    "with open('../config.yaml', 'r') as config_file:\n",
    "    config = yaml.safe_load(config_file)\n",
    "\n",
    "# Access the settings\n",
    "project_folder = config['projectFolder']\n",
    "df_path = os.path.join(project_folder, config['transformedDataFile'])\n",
    "df = pd.read_csv(df_path)\n",
    "\n",
    "# Display the first few rows\n",
    "df.head()"
   ]
  },
  {
   "cell_type": "code",
   "execution_count": 11,
   "id": "4622d4db",
   "metadata": {},
   "outputs": [],
   "source": [
    "# Define features (X) and target variable (y)\n",
    "X = df.drop('% Silica Concentrate', axis=1)  # Features (all columns except 'Job Offer')\n",
    "y = df['% Silica Concentrate']  # Target variable"
   ]
  },
  {
   "cell_type": "code",
   "execution_count": 12,
   "id": "0000b366",
   "metadata": {},
   "outputs": [
    {
     "name": "stdout",
     "output_type": "stream",
     "text": [
      "Training set size: (2747, 20)\n",
      "Validation set size: (589, 20)\n",
      "Test set size: (589, 20)\n",
      "\n",
      "\n"
     ]
    }
   ],
   "source": [
    "# Split data into train, validation, and test sets\n",
    "X_train, X_temp, y_train, y_temp = train_test_split(X, y, test_size=0.3, random_state=42)\n",
    "X_val, X_test, y_val, y_test = train_test_split(X_temp, y_temp, test_size=0.5, random_state=42)\n",
    "\n",
    "print(f\"Training set size: {X_train.shape}\")\n",
    "print(f\"Validation set size: {X_val.shape}\")\n",
    "print(f\"Test set size: {X_test.shape}\")\n",
    "print(\"\\n\")"
   ]
  },
  {
   "cell_type": "code",
   "execution_count": 13,
   "id": "eea16c3d",
   "metadata": {},
   "outputs": [],
   "source": [
    "# Initialize models\n",
    "models = {\n",
    "    'Random Forest': RandomForestRegressor(random_state=42),\n",
    "    'Gradient Boosting': GradientBoostingRegressor(random_state=42),\n",
    "    'LGBM Regressor': LGBMRegressor(random_state=42),\n",
    "    'XGBoost Regressor': XGBRegressor(random_state=42)}"
   ]
  },
  {
   "cell_type": "code",
   "execution_count": 14,
   "id": "497a4f0e",
   "metadata": {},
   "outputs": [
    {
     "name": "stdout",
     "output_type": "stream",
     "text": [
      "Training Random Forest...\n"
     ]
    },
    {
     "name": "stderr",
     "output_type": "stream",
     "text": [
      "2025/08/15 10:15:48 WARNING mlflow.models.model: `artifact_path` is deprecated. Please use `name` instead.\n",
      "2025/08/15 10:15:56 WARNING mlflow.models.model: Model logged without a signature and input example. Please set `input_example` parameter when logging the model to auto infer the model signature.\n"
     ]
    },
    {
     "name": "stdout",
     "output_type": "stream",
     "text": [
      "Random Forest Validation Results:\n",
      "  RMSE: 0.5305\n",
      "  MAE: 0.3971\n",
      "  R²: 0.7818\n",
      "\n",
      "Training Gradient Boosting...\n"
     ]
    },
    {
     "name": "stderr",
     "output_type": "stream",
     "text": [
      "2025/08/15 10:15:59 WARNING mlflow.models.model: `artifact_path` is deprecated. Please use `name` instead.\n",
      "2025/08/15 10:16:05 WARNING mlflow.models.model: Model logged without a signature and input example. Please set `input_example` parameter when logging the model to auto infer the model signature.\n"
     ]
    },
    {
     "name": "stdout",
     "output_type": "stream",
     "text": [
      "Gradient Boosting Validation Results:\n",
      "  RMSE: 0.5360\n",
      "  MAE: 0.4085\n",
      "  R²: 0.7773\n",
      "\n",
      "Training LGBM Regressor...\n",
      "[LightGBM] [Warning] Found whitespace in feature_names, replace with underlines\n",
      "[LightGBM] [Info] Auto-choosing col-wise multi-threading, the overhead of testing was 0.005296 seconds.\n",
      "You can set `force_col_wise=true` to remove the overhead.\n",
      "[LightGBM] [Info] Total Bins 5073\n",
      "[LightGBM] [Info] Number of data points in the train set: 2747, number of used features: 20\n",
      "[LightGBM] [Info] Start training from score 2.327059\n"
     ]
    },
    {
     "name": "stderr",
     "output_type": "stream",
     "text": [
      "2025/08/15 10:16:08 WARNING mlflow.models.model: `artifact_path` is deprecated. Please use `name` instead.\n",
      "2025/08/15 10:16:14 WARNING mlflow.models.model: Model logged without a signature and input example. Please set `input_example` parameter when logging the model to auto infer the model signature.\n"
     ]
    },
    {
     "name": "stdout",
     "output_type": "stream",
     "text": [
      "LGBM Regressor Validation Results:\n",
      "  RMSE: 0.5121\n",
      "  MAE: 0.3788\n",
      "  R²: 0.7967\n",
      "\n",
      "Training XGBoost Regressor...\n"
     ]
    },
    {
     "name": "stderr",
     "output_type": "stream",
     "text": [
      "2025/08/15 10:16:15 WARNING mlflow.models.model: `artifact_path` is deprecated. Please use `name` instead.\n",
      "2025/08/15 10:16:21 WARNING mlflow.models.model: Model logged without a signature and input example. Please set `input_example` parameter when logging the model to auto infer the model signature.\n"
     ]
    },
    {
     "name": "stdout",
     "output_type": "stream",
     "text": [
      "XGBoost Regressor Validation Results:\n",
      "  RMSE: 0.5480\n",
      "  MAE: 0.4072\n",
      "  R²: 0.7672\n",
      "\n"
     ]
    }
   ],
   "source": [
    "# Train and evaluate each model\n",
    "results = {}\n",
    "\n",
    "for name, model in models.items():\n",
    "    with mlflow.start_run(run_name=name):\n",
    "        print(f\"Training {name}...\")\n",
    "        model.fit(X_train, y_train)\n",
    "\n",
    "        # Predict on validation set\n",
    "        y_val_pred = model.predict(X_val)\n",
    "\n",
    "        # Calculate metrics\n",
    "        val_rmse = np.sqrt(mean_squared_error(y_val, y_val_pred))\n",
    "        val_mae = mean_absolute_error(y_val, y_val_pred)\n",
    "        val_r2 = r2_score(y_val, y_val_pred)\n",
    "\n",
    "        # Log metrics to MLflow\n",
    "        mlflow.log_metric(\"val_rmse\", val_rmse)\n",
    "        mlflow.log_metric(\"val_mae\", val_mae)\n",
    "        mlflow.log_metric(\"val_r2\", val_r2)\n",
    "\n",
    "        # Log the trained model\n",
    "        mlflow.sklearn.log_model(model, artifact_path=\"model\")\n",
    "\n",
    "        results[name] = {\n",
    "            'model': model,\n",
    "            'val_rmse': val_rmse,\n",
    "            'val_mae': val_mae,\n",
    "            'val_r2': val_r2\n",
    "        }\n",
    "\n",
    "        print(f\"{name} Validation Results:\")\n",
    "        print(f\"  RMSE: {val_rmse:.4f}\")\n",
    "        print(f\"  MAE: {val_mae:.4f}\")\n",
    "        print(f\"  R²: {val_r2:.4f}\")\n",
    "        print()"
   ]
  },
  {
   "cell_type": "code",
   "execution_count": 15,
   "id": "583efe96",
   "metadata": {},
   "outputs": [
    {
     "name": "stdout",
     "output_type": "stream",
     "text": [
      "Best model based on validation RMSE: LGBM Regressor\n",
      "\n",
      "\n"
     ]
    }
   ],
   "source": [
    "# Find the best model based on RMSE\n",
    "best_model_name = min(results, key=lambda k: results[k]['val_rmse'])\n",
    "print(f\"Best model based on validation RMSE: {best_model_name}\")\n",
    "print(\"\\n\")"
   ]
  },
  {
   "cell_type": "code",
   "execution_count": 16,
   "id": "de9ee840",
   "metadata": {},
   "outputs": [],
   "source": [
    "best_model= results[best_model_name]['model']"
   ]
  },
  {
   "cell_type": "code",
   "execution_count": 17,
   "id": "473164b6",
   "metadata": {},
   "outputs": [
    {
     "name": "stdout",
     "output_type": "stream",
     "text": [
      "Model saved as ../model/mining_process_lgbm_regressor_model.pkl\n"
     ]
    }
   ],
   "source": [
    "# Save the model\n",
    "model_filename = f'../model/mining_process_{best_model_name.lower().replace(\" \", \"_\")}_model.pkl'\n",
    "joblib.dump(best_model, model_filename)\n",
    "print(f\"Model saved as {model_filename}\")"
   ]
  }
 ],
 "metadata": {
  "kernelspec": {
   "display_name": "Mining (Poetry)",
   "language": "python",
   "name": "mining_kernel"
  },
  "language_info": {
   "codemirror_mode": {
    "name": "ipython",
    "version": 3
   },
   "file_extension": ".py",
   "mimetype": "text/x-python",
   "name": "python",
   "nbconvert_exporter": "python",
   "pygments_lexer": "ipython3",
   "version": "3.12.6"
  }
 },
 "nbformat": 4,
 "nbformat_minor": 5
}
