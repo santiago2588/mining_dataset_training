{
 "cells": [
  {
   "cell_type": "code",
   "execution_count": 1,
   "metadata": {},
   "outputs": [],
   "source": [
    "import yaml\n",
    "import os"
   ]
  },
  {
   "cell_type": "code",
   "execution_count": 2,
   "metadata": {},
   "outputs": [],
   "source": [
    "# Data wrangling\n",
    "import pandas as pd\n",
    "import numpy as np"
   ]
  },
  {
   "cell_type": "code",
   "execution_count": 3,
   "metadata": {},
   "outputs": [],
   "source": [
    "# Data visualization\n",
    "import matplotlib.pyplot as plt\n",
    "import seaborn as sns\n",
    "import plotly.express as px\n",
    "from tqdm import tqdm"
   ]
  },
  {
   "cell_type": "code",
   "execution_count": 4,
   "metadata": {},
   "outputs": [],
   "source": [
    "from sklearn.linear_model import LinearRegression, Ridge, Lasso, ElasticNet\n",
    "from sklearn.metrics import mean_squared_error, mean_absolute_error, r2_score\n",
    "from sklearn.model_selection import train_test_split\n",
    "from sklearn.pipeline import Pipeline"
   ]
  },
  {
   "cell_type": "code",
   "execution_count": 5,
   "metadata": {},
   "outputs": [],
   "source": [
    "import mlflow\n",
    "import mlflow.sklearn"
   ]
  },
  {
   "cell_type": "code",
   "execution_count": 6,
   "metadata": {},
   "outputs": [
    {
     "data": {
      "text/plain": [
       "<Experiment: artifact_location=('file:c:/Users/mjkipsz2/OneDrive - The University of '\n",
       " 'Manchester/Desktop/mining_dataset_training/notebooks/mlruns/180358635567956149'), creation_time=1755171885716, experiment_id='180358635567956149', last_update_time=1755171885716, lifecycle_stage='active', name='mining', tags={}>"
      ]
     },
     "execution_count": 6,
     "metadata": {},
     "output_type": "execute_result"
    }
   ],
   "source": [
    "mlflow.set_tracking_uri(\"file:./mlruns\")\n",
    "mlflow.set_experiment(\"mining\")"
   ]
  },
  {
   "cell_type": "code",
   "execution_count": 7,
   "metadata": {},
   "outputs": [],
   "source": [
    "# Save model\n",
    "import joblib"
   ]
  },
  {
   "cell_type": "code",
   "execution_count": 8,
   "metadata": {},
   "outputs": [
    {
     "data": {
      "text/html": [
       "<div>\n",
       "<style scoped>\n",
       "    .dataframe tbody tr th:only-of-type {\n",
       "        vertical-align: middle;\n",
       "    }\n",
       "\n",
       "    .dataframe tbody tr th {\n",
       "        vertical-align: top;\n",
       "    }\n",
       "\n",
       "    .dataframe thead th {\n",
       "        text-align: right;\n",
       "    }\n",
       "</style>\n",
       "<table border=\"1\" class=\"dataframe\">\n",
       "  <thead>\n",
       "    <tr style=\"text-align: right;\">\n",
       "      <th></th>\n",
       "      <th>% Iron Feed</th>\n",
       "      <th>Starch Flow</th>\n",
       "      <th>Amina Flow</th>\n",
       "      <th>Ore Pulp Flow</th>\n",
       "      <th>Ore Pulp pH</th>\n",
       "      <th>Ore Pulp Density</th>\n",
       "      <th>Flotation Column 01 Air Flow</th>\n",
       "      <th>Flotation Column 02 Air Flow</th>\n",
       "      <th>Flotation Column 04 Air Flow</th>\n",
       "      <th>Flotation Column 05 Air Flow</th>\n",
       "      <th>...</th>\n",
       "      <th>Flotation Column 07 Air Flow</th>\n",
       "      <th>Flotation Column 01 Level</th>\n",
       "      <th>Flotation Column 02 Level</th>\n",
       "      <th>Flotation Column 03 Level</th>\n",
       "      <th>Flotation Column 04 Level</th>\n",
       "      <th>Flotation Column 05 Level</th>\n",
       "      <th>Flotation Column 06 Level</th>\n",
       "      <th>Flotation Column 07 Level</th>\n",
       "      <th>% Iron Concentrate</th>\n",
       "      <th>% Silica Concentrate</th>\n",
       "    </tr>\n",
       "  </thead>\n",
       "  <tbody>\n",
       "    <tr>\n",
       "      <th>0</th>\n",
       "      <td>-0.213027</td>\n",
       "      <td>0.275996</td>\n",
       "      <td>0.568826</td>\n",
       "      <td>0.227759</td>\n",
       "      <td>1.019824</td>\n",
       "      <td>-0.170499</td>\n",
       "      <td>-1.039839</td>\n",
       "      <td>-0.965738</td>\n",
       "      <td>-1.694665</td>\n",
       "      <td>1.808142</td>\n",
       "      <td>...</td>\n",
       "      <td>-1.422218</td>\n",
       "      <td>-0.441310</td>\n",
       "      <td>-0.268142</td>\n",
       "      <td>-0.598737</td>\n",
       "      <td>0.133238</td>\n",
       "      <td>0.265119</td>\n",
       "      <td>0.553233</td>\n",
       "      <td>0.801282</td>\n",
       "      <td>1.800787</td>\n",
       "      <td>1.11</td>\n",
       "    </tr>\n",
       "    <tr>\n",
       "      <th>1</th>\n",
       "      <td>-0.213027</td>\n",
       "      <td>0.435872</td>\n",
       "      <td>0.942004</td>\n",
       "      <td>0.157869</td>\n",
       "      <td>0.830227</td>\n",
       "      <td>0.359848</td>\n",
       "      <td>-1.036866</td>\n",
       "      <td>-0.796598</td>\n",
       "      <td>-1.694665</td>\n",
       "      <td>1.808142</td>\n",
       "      <td>...</td>\n",
       "      <td>-1.446990</td>\n",
       "      <td>-0.488270</td>\n",
       "      <td>-0.642799</td>\n",
       "      <td>-0.499185</td>\n",
       "      <td>0.123367</td>\n",
       "      <td>0.454182</td>\n",
       "      <td>0.166073</td>\n",
       "      <td>0.133461</td>\n",
       "      <td>1.720431</td>\n",
       "      <td>1.27</td>\n",
       "    </tr>\n",
       "    <tr>\n",
       "      <th>2</th>\n",
       "      <td>-0.213027</td>\n",
       "      <td>-0.114326</td>\n",
       "      <td>1.147271</td>\n",
       "      <td>1.213589</td>\n",
       "      <td>0.473401</td>\n",
       "      <td>0.636556</td>\n",
       "      <td>-1.073257</td>\n",
       "      <td>-0.843754</td>\n",
       "      <td>-1.694665</td>\n",
       "      <td>1.808142</td>\n",
       "      <td>...</td>\n",
       "      <td>-1.440884</td>\n",
       "      <td>-0.466888</td>\n",
       "      <td>-0.334940</td>\n",
       "      <td>-0.517902</td>\n",
       "      <td>0.136068</td>\n",
       "      <td>0.147856</td>\n",
       "      <td>-0.099780</td>\n",
       "      <td>-0.158767</td>\n",
       "      <td>1.524008</td>\n",
       "      <td>1.36</td>\n",
       "    </tr>\n",
       "    <tr>\n",
       "      <th>3</th>\n",
       "      <td>-0.213027</td>\n",
       "      <td>-0.393998</td>\n",
       "      <td>1.253941</td>\n",
       "      <td>0.066825</td>\n",
       "      <td>0.200190</td>\n",
       "      <td>1.138027</td>\n",
       "      <td>-1.051361</td>\n",
       "      <td>-1.031341</td>\n",
       "      <td>-1.694665</td>\n",
       "      <td>1.808142</td>\n",
       "      <td>...</td>\n",
       "      <td>-1.321186</td>\n",
       "      <td>0.290578</td>\n",
       "      <td>0.193901</td>\n",
       "      <td>0.135607</td>\n",
       "      <td>1.549147</td>\n",
       "      <td>1.392954</td>\n",
       "      <td>1.089841</td>\n",
       "      <td>1.095224</td>\n",
       "      <td>1.416868</td>\n",
       "      <td>1.34</td>\n",
       "    </tr>\n",
       "    <tr>\n",
       "      <th>4</th>\n",
       "      <td>-0.213027</td>\n",
       "      <td>0.393545</td>\n",
       "      <td>1.521794</td>\n",
       "      <td>0.236885</td>\n",
       "      <td>-0.051175</td>\n",
       "      <td>1.293576</td>\n",
       "      <td>-1.070655</td>\n",
       "      <td>-0.889838</td>\n",
       "      <td>-1.694665</td>\n",
       "      <td>1.808142</td>\n",
       "      <td>...</td>\n",
       "      <td>-1.368475</td>\n",
       "      <td>0.296688</td>\n",
       "      <td>0.084046</td>\n",
       "      <td>0.051523</td>\n",
       "      <td>1.293536</td>\n",
       "      <td>1.419185</td>\n",
       "      <td>1.601500</td>\n",
       "      <td>2.058241</td>\n",
       "      <td>1.613291</td>\n",
       "      <td>1.15</td>\n",
       "    </tr>\n",
       "  </tbody>\n",
       "</table>\n",
       "<p>5 rows × 21 columns</p>\n",
       "</div>"
      ],
      "text/plain": [
       "   % Iron Feed  Starch Flow  Amina Flow  Ore Pulp Flow  Ore Pulp pH  \\\n",
       "0    -0.213027     0.275996    0.568826       0.227759     1.019824   \n",
       "1    -0.213027     0.435872    0.942004       0.157869     0.830227   \n",
       "2    -0.213027    -0.114326    1.147271       1.213589     0.473401   \n",
       "3    -0.213027    -0.393998    1.253941       0.066825     0.200190   \n",
       "4    -0.213027     0.393545    1.521794       0.236885    -0.051175   \n",
       "\n",
       "   Ore Pulp Density  Flotation Column 01 Air Flow  \\\n",
       "0         -0.170499                     -1.039839   \n",
       "1          0.359848                     -1.036866   \n",
       "2          0.636556                     -1.073257   \n",
       "3          1.138027                     -1.051361   \n",
       "4          1.293576                     -1.070655   \n",
       "\n",
       "   Flotation Column 02 Air Flow  Flotation Column 04 Air Flow  \\\n",
       "0                     -0.965738                     -1.694665   \n",
       "1                     -0.796598                     -1.694665   \n",
       "2                     -0.843754                     -1.694665   \n",
       "3                     -1.031341                     -1.694665   \n",
       "4                     -0.889838                     -1.694665   \n",
       "\n",
       "   Flotation Column 05 Air Flow  ...  Flotation Column 07 Air Flow  \\\n",
       "0                      1.808142  ...                     -1.422218   \n",
       "1                      1.808142  ...                     -1.446990   \n",
       "2                      1.808142  ...                     -1.440884   \n",
       "3                      1.808142  ...                     -1.321186   \n",
       "4                      1.808142  ...                     -1.368475   \n",
       "\n",
       "   Flotation Column 01 Level  Flotation Column 02 Level  \\\n",
       "0                  -0.441310                  -0.268142   \n",
       "1                  -0.488270                  -0.642799   \n",
       "2                  -0.466888                  -0.334940   \n",
       "3                   0.290578                   0.193901   \n",
       "4                   0.296688                   0.084046   \n",
       "\n",
       "   Flotation Column 03 Level  Flotation Column 04 Level  \\\n",
       "0                  -0.598737                   0.133238   \n",
       "1                  -0.499185                   0.123367   \n",
       "2                  -0.517902                   0.136068   \n",
       "3                   0.135607                   1.549147   \n",
       "4                   0.051523                   1.293536   \n",
       "\n",
       "   Flotation Column 05 Level  Flotation Column 06 Level  \\\n",
       "0                   0.265119                   0.553233   \n",
       "1                   0.454182                   0.166073   \n",
       "2                   0.147856                  -0.099780   \n",
       "3                   1.392954                   1.089841   \n",
       "4                   1.419185                   1.601500   \n",
       "\n",
       "   Flotation Column 07 Level  % Iron Concentrate  % Silica Concentrate  \n",
       "0                   0.801282            1.800787                  1.11  \n",
       "1                   0.133461            1.720431                  1.27  \n",
       "2                  -0.158767            1.524008                  1.36  \n",
       "3                   1.095224            1.416868                  1.34  \n",
       "4                   2.058241            1.613291                  1.15  \n",
       "\n",
       "[5 rows x 21 columns]"
      ]
     },
     "execution_count": 8,
     "metadata": {},
     "output_type": "execute_result"
    }
   ],
   "source": [
    "# Load the configuration file\n",
    "with open('../config.yaml', 'r') as config_file:\n",
    "    config = yaml.safe_load(config_file)\n",
    "\n",
    "# Access the settings\n",
    "project_folder = config['projectFolder']\n",
    "df_path = os.path.join(project_folder, config['normalizedDataFile'])\n",
    "df = pd.read_csv(df_path)\n",
    "\n",
    "# Display the first few rows\n",
    "df.head()"
   ]
  },
  {
   "cell_type": "code",
   "execution_count": 9,
   "metadata": {},
   "outputs": [],
   "source": [
    "# Define features (X) and target variable (y)\n",
    "X = df.drop('% Silica Concentrate', axis=1)  # Features (all columns except 'Job Offer')\n",
    "y = df['% Silica Concentrate']  # Target variable"
   ]
  },
  {
   "cell_type": "code",
   "execution_count": 10,
   "metadata": {},
   "outputs": [],
   "source": [
    "# Remove any columns that still have NaN values\n",
    "X = X.select_dtypes(include=['number'])  # Keep only numeric columns\n",
    "X = X.fillna(X.median())  # Final cleaning of any remaining NaN"
   ]
  },
  {
   "cell_type": "code",
   "execution_count": 11,
   "metadata": {},
   "outputs": [
    {
     "name": "stdout",
     "output_type": "stream",
     "text": [
      "Training set size: (2747, 20)\n",
      "Validation set size: (589, 20)\n",
      "Test set size: (589, 20)\n",
      "\n",
      "\n"
     ]
    }
   ],
   "source": [
    "# Split data into train, validation, and test sets\n",
    "X_train, X_temp, y_train, y_temp = train_test_split(X, y, test_size=0.3, random_state=42)\n",
    "X_val, X_test, y_val, y_test = train_test_split(X_temp, y_temp, test_size=0.5, random_state=42)\n",
    "\n",
    "print(f\"Training set size: {X_train.shape}\")\n",
    "print(f\"Validation set size: {X_val.shape}\")\n",
    "print(f\"Test set size: {X_test.shape}\")\n",
    "print(\"\\n\")"
   ]
  },
  {
   "cell_type": "code",
   "execution_count": 12,
   "metadata": {},
   "outputs": [],
   "source": [
    "# Initialize models\n",
    "models = {\n",
    "    'Linear Regression': LinearRegression(),\n",
    "    'Ridge Regression': Ridge(),\n",
    "    'Lasso Regression': Lasso(alpha=0.1),\n",
    "    'ElasticNet Regression': ElasticNet(alpha=0.1, l1_ratio=0.5)}"
   ]
  },
  {
   "cell_type": "code",
   "execution_count": 13,
   "metadata": {},
   "outputs": [
    {
     "name": "stderr",
     "output_type": "stream",
     "text": [
      "2025/08/15 10:20:06 WARNING mlflow.models.model: `artifact_path` is deprecated. Please use `name` instead.\n"
     ]
    },
    {
     "name": "stdout",
     "output_type": "stream",
     "text": [
      "Training Linear Regression...\n"
     ]
    },
    {
     "name": "stderr",
     "output_type": "stream",
     "text": [
      "2025/08/15 10:20:14 WARNING mlflow.models.model: Model logged without a signature and input example. Please set `input_example` parameter when logging the model to auto infer the model signature.\n"
     ]
    },
    {
     "name": "stdout",
     "output_type": "stream",
     "text": [
      "Linear Regression Validation Results:\n",
      "  RMSE: 0.6051\n",
      "  MAE: 0.4814\n",
      "  R²: 0.7161\n",
      "\n",
      "Training Ridge Regression...\n"
     ]
    },
    {
     "name": "stderr",
     "output_type": "stream",
     "text": [
      "2025/08/15 10:20:14 WARNING mlflow.models.model: `artifact_path` is deprecated. Please use `name` instead.\n",
      "2025/08/15 10:20:20 WARNING mlflow.models.model: Model logged without a signature and input example. Please set `input_example` parameter when logging the model to auto infer the model signature.\n",
      "2025/08/15 10:20:20 WARNING mlflow.models.model: `artifact_path` is deprecated. Please use `name` instead.\n"
     ]
    },
    {
     "name": "stdout",
     "output_type": "stream",
     "text": [
      "Ridge Regression Validation Results:\n",
      "  RMSE: 0.6051\n",
      "  MAE: 0.4814\n",
      "  R²: 0.7161\n",
      "\n",
      "Training Lasso Regression...\n"
     ]
    },
    {
     "name": "stderr",
     "output_type": "stream",
     "text": [
      "2025/08/15 10:20:26 WARNING mlflow.models.model: Model logged without a signature and input example. Please set `input_example` parameter when logging the model to auto infer the model signature.\n"
     ]
    },
    {
     "name": "stdout",
     "output_type": "stream",
     "text": [
      "Lasso Regression Validation Results:\n",
      "  RMSE: 0.6329\n",
      "  MAE: 0.4872\n",
      "  R²: 0.6894\n",
      "\n",
      "Training ElasticNet Regression...\n"
     ]
    },
    {
     "name": "stderr",
     "output_type": "stream",
     "text": [
      "2025/08/15 10:20:26 WARNING mlflow.models.model: `artifact_path` is deprecated. Please use `name` instead.\n",
      "2025/08/15 10:20:32 WARNING mlflow.models.model: Model logged without a signature and input example. Please set `input_example` parameter when logging the model to auto infer the model signature.\n"
     ]
    },
    {
     "name": "stdout",
     "output_type": "stream",
     "text": [
      "ElasticNet Regression Validation Results:\n",
      "  RMSE: 0.6211\n",
      "  MAE: 0.4830\n",
      "  R²: 0.7009\n",
      "\n"
     ]
    }
   ],
   "source": [
    "# Train and evaluate each model\n",
    "results = {}\n",
    "\n",
    "for name, model in models.items():\n",
    "    with mlflow.start_run(run_name=name):\n",
    "        print(f\"Training {name}...\")\n",
    "        model.fit(X_train, y_train)\n",
    "\n",
    "        # Predict on validation set\n",
    "        y_val_pred = model.predict(X_val)\n",
    "\n",
    "        # Calculate metrics\n",
    "        val_rmse = np.sqrt(mean_squared_error(y_val, y_val_pred))\n",
    "        val_mae = mean_absolute_error(y_val, y_val_pred)\n",
    "        val_r2 = r2_score(y_val, y_val_pred)\n",
    "\n",
    "        # Log metrics to MLflow\n",
    "        mlflow.log_metric(\"val_rmse\", val_rmse)\n",
    "        mlflow.log_metric(\"val_mae\", val_mae)\n",
    "        mlflow.log_metric(\"val_r2\", val_r2)\n",
    "\n",
    "        # Log the trained model\n",
    "        mlflow.sklearn.log_model(model, artifact_path=\"model\")\n",
    "\n",
    "        results[name] = {\n",
    "            'model': model,\n",
    "            'val_rmse': val_rmse,\n",
    "            'val_mae': val_mae,\n",
    "            'val_r2': val_r2\n",
    "        }\n",
    "\n",
    "        print(f\"{name} Validation Results:\")\n",
    "        print(f\"  RMSE: {val_rmse:.4f}\")\n",
    "        print(f\"  MAE: {val_mae:.4f}\")\n",
    "        print(f\"  R²: {val_r2:.4f}\")\n",
    "        print()"
   ]
  },
  {
   "cell_type": "code",
   "execution_count": 14,
   "metadata": {},
   "outputs": [
    {
     "name": "stdout",
     "output_type": "stream",
     "text": [
      "Best model based on validation RMSE: Ridge Regression\n"
     ]
    }
   ],
   "source": [
    "# Find the best model based on RMSE\n",
    "best_model_name = min(results, key=lambda k: results[k]['val_rmse'])\n",
    "print(f\"Best model based on validation RMSE: {best_model_name}\")"
   ]
  }
 ],
 "metadata": {
  "kernelspec": {
   "display_name": "Mining (Poetry)",
   "language": "python",
   "name": "mining_kernel"
  },
  "language_info": {
   "codemirror_mode": {
    "name": "ipython",
    "version": 3
   },
   "file_extension": ".py",
   "mimetype": "text/x-python",
   "name": "python",
   "nbconvert_exporter": "python",
   "pygments_lexer": "ipython3",
   "version": "3.12.6"
  }
 },
 "nbformat": 4,
 "nbformat_minor": 2
}
